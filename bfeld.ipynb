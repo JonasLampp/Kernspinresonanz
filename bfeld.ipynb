{
 "cells": [
  {
   "cell_type": "code",
   "execution_count": 1,
   "id": "2f21ff63-a316-4c34-a82c-ebd2825045ee",
   "metadata": {},
   "outputs": [],
   "source": [
    "import numpy as np\n",
    "from sympy import * \n",
    "import sympy as sym\n",
    "from matplotlib import pyplot as plt\n",
    "import matplotlib.ticker as ticker\n",
    "import math\n",
    "import pandas as pd\n",
    "from scipy.optimize import curve_fit\n",
    "\n",
    "\n",
    "\n",
    "\n",
    "\n",
    "#Statistik wie die Großen\n",
    "\n",
    "\n",
    "#Arithmetischer Mittelwert\n",
    "\n",
    "def mittelwert(Messreihe):\n",
    "    return sum(Messreihe)/len(Messreihe)\n",
    "\n",
    "\n",
    "#Empirische Varianz\n",
    "\n",
    "def empVar(Messreihe):\n",
    "    if len(Messreihe) < 2:\n",
    "        return 'Die Messreihe muss mindestens zwei Messwerte beinhalten'\n",
    "    empvar = 0\n",
    "    mw = mittelwert(Messreihe)\n",
    "    indexarray = np.arange(0,len(Messreihe))\n",
    "    for index in indexarray:\n",
    "        empvar += (Messreihe[index] - mw)**2\n",
    "    return (1/(len(Messreihe)-1))*empvar\n",
    "\n",
    "\n",
    "#Empirische Standardabweichung\n",
    "\n",
    "def empStan(Messreihe):\n",
    "    return empVar(Messreihe)**(1/2)\n",
    "\n",
    "\n",
    "#Standardabweichung des Mittelwerts\n",
    "\n",
    "def Stanmi(Messreihe):\n",
    "    return empStan(Messreihe)/(len(Messreihe)**(1/2))\n",
    "\n",
    "\n",
    "#Standardabweichung der empirischen Standardabweichung:\n",
    "\n",
    "def StanempStan(Messreihe):\n",
    "    return empStan(Messreihe)/((2*(len(Messreihe)-1))**(1/2))\n",
    "\n",
    "\n",
    "\n",
    "#Gauß-Fehlerfortpflanzung\n",
    "# Definiere die Symbole, Parameter, die Funktion, die Unsicherheiten und die Bestwerte:\n",
    "\n",
    "#x, y = symbols('? ? ')\n",
    "#params = [?,?]\n",
    "#Bestwerte = [?,?]      #Bestwerte in gleicher Reihenfolge wie Symbole eingeben\n",
    "#Unsicherheiten = [?,?]  #Unsicherheiten in gleicher Reihenfolge wie Symbole eingeben\n",
    "#exp = ? \n",
    "\n",
    "def fehlerfort(exp, params, Bestwerte, Unsicherheiten):\n",
    "    delexp = 0\n",
    "    for i in np.arange(0, len(params)):\n",
    "        delexp += (sym.lambdify(params, sym.diff(exp,params[i]), modules=['math'])(*Bestwerte)*Unsicherheiten[i])**2\n",
    "    return delexp**(1/2)\n",
    "\n",
    "# Korrelierte Fehlerfortpflanzung\n",
    "\n",
    "def korfehlerfort(exp, params, Bestwerte, Unsicherheiten, Eingang):\n",
    "    #x, y = symbols('? ? ')\n",
    "    #Eingang= [?,?,?]  #Liste von allen Arrays mit allen Werten der Parameter um Korrelationskoeffizienten zu bestimmen\n",
    "    #params = [?,?]\n",
    "    #Bestwerte = [?,?]      #Bestwerte in gleicher Reihenfolge wie Symbole eingeben\n",
    "    #Unsicherheiten = [?,?]  #Unsicherheiten in gleicher Reihenfolge wie Symbole eingeben\n",
    "    #exp = ? \n",
    "    A = []\n",
    "    for i in np.arange(len(params)):\n",
    "        A.append(sym.lambdify(params, sym.diff(exp,params[i]), modules=['math'])(*Bestwerte))\n",
    "    return np.sqrt(abs((np.dot(A,np.dot(kovmatrix(Eingang,Unsicherheiten),A)))))\n",
    "        \n",
    "        \n",
    "\n",
    "#x, y = symbols('? ? ')\n",
    "# Eingang= [?,?,?]  #Liste von allen Arrays mit allen Werten der Parameter um Korrelationskoeffizienten zu bestimmen\n",
    "#params = [?,?]\n",
    "#Bestwerte = [?,?]      #Bestwerte in gleicher Reihenfolge wie Symbole eingeben\n",
    "#Unsicherheiten = [?,?]  #Unsicherheiten in gleicher Reihenfolge wie Symbole eingeben\n",
    "#exp = ? \n",
    "\n",
    "# Kovarianzmatrix V:\n",
    "def kovmatrix(Eingang, Unsicherheiten):\n",
    "    if len(Eingang)!= len(Unsicherheiten):\n",
    "        return 'Eingangsvariablen und Fehler stimmen nicht überein'\n",
    "    V = []\n",
    "    for i in np.arange(len(Eingang)):\n",
    "        for n in np.arange(len(Eingang)):\n",
    "            if i == n:\n",
    "                V.append(Unsicherheiten[i]**2)\n",
    "            else:\n",
    "                V.append(empKor(Eingang[i], Eingang[n]))\n",
    "    return np.reshape(V, (len(Eingang), len(Eingang)))\n",
    "                \n",
    "        \n",
    "#Empirische Korrelation\n",
    "\n",
    "def empKor(x,y):\n",
    "    if len(x)!=len(y):\n",
    "        return 'Datensätze müssen gleich lang sein'\n",
    "    else:\n",
    "        a = []\n",
    "        for i in np.arange(len(x)):\n",
    "            a.append((x[i]-mittelwert(x))*(y[i]-mittelwert(y)))\n",
    "        return (1/(len(x)-1))*sum(a)\n",
    "    \n",
    "\n",
    "#Korrelationskoeffzienten\n",
    "\n",
    "def korkoef(x,y):\n",
    "    return empKor(x,y)/(empStan(x)*empStan(y))\n",
    "\n",
    "\n",
    "# Einfacher t-test\n",
    "\n",
    "def ttest(x, y, delta_x):\n",
    "    return abs(x-y)/delta_x\n",
    "    \n",
    "    \n",
    "# t-test mit zwei Ergebnissen\n",
    "\n",
    "def ttest2(x, y, delta_x , delta_y):\n",
    "    return abs(x-y)/(np.sqrt(delta_x**2+delta_y**2))"
   ]
  },
  {
   "cell_type": "code",
   "execution_count": 3,
   "id": "5d31660c-aa53-464c-815e-433011bb01c3",
   "metadata": {},
   "outputs": [
    {
     "name": "stdout",
     "output_type": "stream",
     "text": [
      "[ 0  1  2  3  4  5  6  7  8  9 10 11 12 13 14 15 16 17 18 19 20 21 22 23\n",
      " 24]\n"
     ]
    }
   ],
   "source": [
    "dist = np.arange(0,25,1)\n",
    "b = np.array([381,424,440,448,453,455,457,459,459,451,453,456,456,457,458,458,458,458,457,457,458,451,451,447,427])\n",
    "print(dist)"
   ]
  },
  {
   "cell_type": "code",
   "execution_count": 5,
   "id": "cb5e389a-d0bd-4c90-a8eb-5cc34bf42ea2",
   "metadata": {},
   "outputs": [
    {
     "data": {
      "text/plain": [
       "<matplotlib.collections.PathCollection at 0x162a6a1bdc0>"
      ]
     },
     "execution_count": 5,
     "metadata": {},
     "output_type": "execute_result"
    },
    {
     "data": {
      "image/png": "[encoded data removed]",
      "text/plain": [
       "<Figure size 432x288 with 1 Axes>"
      ]
     },
     "metadata": {
      "needs_background": "light"
     },
     "output_type": "display_data"
    }
   ],
   "source": [
    "plt.scatter(dist,b)"
   ]
  }
 ],
 "metadata": {
  "kernelspec": {
   "display_name": "Python 3",
   "language": "python",
   "name": "python3"
  },
  "language_info": {
   "codemirror_mode": {
    "name": "ipython",
    "version": 3
   },
   "file_extension": ".py",
   "mimetype": "text/x-python",
   "name": "python",
   "nbconvert_exporter": "python",
   "pygments_lexer": "ipython3",
   "version": "3.8.8"
  }
 },
 "nbformat": 4,
 "nbformat_minor": 5
}
